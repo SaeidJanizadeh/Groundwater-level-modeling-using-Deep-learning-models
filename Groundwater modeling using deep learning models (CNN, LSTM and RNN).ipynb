{
 "cells": [
  {
   "cell_type": "code",
   "execution_count": 1,
   "id": "d9ccbe44",
   "metadata": {},
   "outputs": [
    {
     "name": "stdout",
     "output_type": "stream",
     "text": [
      "C:\\Users\\Sayed\n"
     ]
    }
   ],
   "source": [
    "import os\n",
    "print(os.getcwd())"
   ]
  },
  {
   "cell_type": "code",
   "execution_count": 3,
   "id": "fe37765f",
   "metadata": {},
   "outputs": [],
   "source": [
    "os.chdir(r'C:\\Users\\Sayed\\Desktop\\Groundwater level')"
   ]
  },
  {
   "cell_type": "code",
   "execution_count": 17,
   "id": "be28cf13",
   "metadata": {},
   "outputs": [],
   "source": [
    "import pandas as pd\n",
    "import numpy as np"
   ]
  },
  {
   "cell_type": "code",
   "execution_count": 5,
   "id": "67a14d25",
   "metadata": {},
   "outputs": [],
   "source": [
    "data= pd.read_csv ('data.csv')"
   ]
  },
  {
   "cell_type": "code",
   "execution_count": 6,
   "id": "19a145ea",
   "metadata": {},
   "outputs": [],
   "source": [
    "X = data.iloc[:,:-1]"
   ]
  },
  {
   "cell_type": "code",
   "execution_count": 7,
   "id": "faf1a429",
   "metadata": {},
   "outputs": [],
   "source": [
    "Y = data.iloc[:,-1]"
   ]
  },
  {
   "cell_type": "code",
   "execution_count": 19,
   "id": "e4a459a4",
   "metadata": {},
   "outputs": [],
   "source": [
    "import pandas as pd\n",
    "import numpy as np"
   ]
  },
  {
   "cell_type": "code",
   "execution_count": 21,
   "id": "50e18b8f",
   "metadata": {},
   "outputs": [],
   "source": [
    "X_array = X.values"
   ]
  },
  {
   "cell_type": "code",
   "execution_count": 23,
   "id": "f929f2c4",
   "metadata": {},
   "outputs": [],
   "source": [
    "X_reshaped = X_array.reshape(X_array.shape[0], X_array.shape[1], 1)"
   ]
  },
  {
   "cell_type": "code",
   "execution_count": 8,
   "id": "2d8b8b69",
   "metadata": {},
   "outputs": [],
   "source": [
    "from sklearn.model_selection import train_test_split"
   ]
  },
  {
   "cell_type": "code",
   "execution_count": 24,
   "id": "c7858800",
   "metadata": {},
   "outputs": [],
   "source": [
    "x_train, x_test, y_train, y_test = train_test_split(X_reshaped, Y, test_size=0.30, random_state=0)"
   ]
  },
  {
   "cell_type": "code",
   "execution_count": 14,
   "id": "338c32b3",
   "metadata": {},
   "outputs": [],
   "source": [
    "from keras.models import Sequential\n",
    "from keras.layers import Dense, Conv1D, Flatten\n",
    "from sklearn.model_selection import train_test_split\n",
    "from sklearn.metrics import mean_squared_error\n",
    "import matplotlib.pyplot as plt"
   ]
  },
  {
   "cell_type": "code",
   "execution_count": 59,
   "id": "7180f443",
   "metadata": {},
   "outputs": [],
   "source": [
    "#####CNN Model#####\n",
    "model = Sequential()\n",
    "model.add(Conv1D(32, 2, activation=\"relu\", input_shape=(x_train.shape[1], 1)))\n",
    "model.add(Flatten())\n",
    "model.add(Dense(64, activation=\"relu\"))\n",
    "model.add(Dense(1))\n",
    "model.compile(loss=\"mse\", optimizer=\"adam\")"
   ]
  },
  {
   "cell_type": "code",
   "execution_count": 60,
   "id": "2c6810ac",
   "metadata": {},
   "outputs": [
    {
     "data": {
      "text/plain": [
       "<keras.src.callbacks.History at 0x25824012950>"
      ]
     },
     "execution_count": 60,
     "metadata": {},
     "output_type": "execute_result"
    }
   ],
   "source": [
    "model.fit(x_train, y_train, batch_size=12,epochs=200, verbose=0)"
   ]
  },
  {
   "cell_type": "code",
   "execution_count": 75,
   "id": "2288db7a",
   "metadata": {},
   "outputs": [
    {
     "name": "stdout",
     "output_type": "stream",
     "text": [
      "8/8 [==============================] - 0s 909us/step\n"
     ]
    }
   ],
   "source": [
    "y_pred = model.predict(x_test)"
   ]
  },
  {
   "cell_type": "code",
   "execution_count": 70,
   "id": "d1a78742",
   "metadata": {},
   "outputs": [],
   "source": [
    "y_pred = y_pred.reshape(y_pred.shape[0],)"
   ]
  },
  {
   "cell_type": "code",
   "execution_count": 82,
   "id": "f8e23b21",
   "metadata": {},
   "outputs": [],
   "source": [
    "y_predCNN=pd.DataFrame(y_pred)"
   ]
  },
  {
   "cell_type": "code",
   "execution_count": 80,
   "id": "b0a70081",
   "metadata": {},
   "outputs": [],
   "source": [
    "y_test=pd.DataFrame(y_test)"
   ]
  },
  {
   "cell_type": "code",
   "execution_count": null,
   "id": "66f6e429",
   "metadata": {},
   "outputs": [],
   "source": [
    "# Calculate evaluation metrics on test dataset\n",
    "r2_testCNN = 1 - np.sum((y_test - y_predCNN)**2) / np.sum((y_test - np.mean(y_test))**2)\n",
    "mae_testCNN = np.mean(np.abs(y_test - y_predCNN))\n",
    "nse_testCNN = 1 - np.sum((y_test - y_predCNN)**2) / np.sum((y_test - np.mean(y_test))**2)\n",
    "# Calculate RMSE on test dataset\n",
    "rmse_testCNN = np.sqrt(np.mean((y_test - y_predCNN)**2))\n",
    "# Print results\n",
    "print(f\"RMSE on Test Dataset: {rmse_testCNN}\")\n",
    "print(f\"R-squared on Test Dataset: {r2_testCNN}\")\n",
    "print(f\"MAE on Test Dataset: {mae_testCNN}\")\n",
    "print(f\"NSE on Test Dataset: {rmse_testCNN}\")"
   ]
  },
  {
   "cell_type": "code",
   "execution_count": 88,
   "id": "e3b77600",
   "metadata": {},
   "outputs": [
    {
     "data": {
      "text/plain": [
       "<keras.src.callbacks.History at 0x258379f86a0>"
      ]
     },
     "execution_count": 88,
     "metadata": {},
     "output_type": "execute_result"
    }
   ],
   "source": [
    "###LSTM Model####\n",
    "from keras.models import Sequential\n",
    "from keras.layers import LSTM, Dense\n",
    "lstm_model = Sequential()\n",
    "lstm_model.add(LSTM(32, activation=\"relu\", input_shape=(x_train.shape[1], 1)))\n",
    "lstm_model.add(Dense(64, activation=\"relu\"))\n",
    "lstm_model.add(Dense(1))\n",
    "lstm_model.compile(loss=\"mse\", optimizer=\"adam\")\n",
    "lstm_model.fit(x_train, y_train, batch_size=12, epochs=200, verbose=0)\n"
   ]
  },
  {
   "cell_type": "code",
   "execution_count": 89,
   "id": "510c750e",
   "metadata": {},
   "outputs": [
    {
     "name": "stdout",
     "output_type": "stream",
     "text": [
      "8/8 [==============================] - 0s 2ms/step\n"
     ]
    }
   ],
   "source": [
    "y_predLSTM = lstm_model.predict(x_test)"
   ]
  },
  {
   "cell_type": "code",
   "execution_count": 84,
   "id": "79e2ba8e",
   "metadata": {},
   "outputs": [],
   "source": [
    "y_predLSTM=pd.DataFrame(y_predLSTM)"
   ]
  },
  {
   "cell_type": "code",
   "execution_count": null,
   "id": "53159684",
   "metadata": {},
   "outputs": [],
   "source": [
    "# Calculate evaluation metrics on test dataset\n",
    "r2_testLSTM = 1 - np.sum((y_test - y_predCNN)**2) / np.sum((y_test - np.mean(y_test))**2)\n",
    "mae_testLSTM = np.mean(np.abs(y_test - y_predCNN))\n",
    "nse_testLSTM = 1 - np.sum((y_test - y_predCNN)**2) / np.sum((y_test - np.mean(y_test))**2)\n",
    "# Calculate RMSE on test dataset\n",
    "rmse_testLSTM = np.sqrt(np.mean((y_test - y_predCNN)**2))\n",
    "# Print results\n",
    "print(f\"RMSE on Test Dataset: {rmse_testLSTM}\")\n",
    "print(f\"R-squared on Test Dataset: {r2_testLSTM}\")\n",
    "print(f\"MAE on Test Dataset: {mae_testLSTM}\")\n",
    "print(f\"NSE on Test Dataset: {nse_testLSTM}\")"
   ]
  },
  {
   "cell_type": "code",
   "execution_count": 85,
   "id": "fec281a2",
   "metadata": {},
   "outputs": [
    {
     "name": "stdout",
     "output_type": "stream",
     "text": [
      "8/8 [==============================] - 0s 2ms/step\n"
     ]
    }
   ],
   "source": [
    "###RNN Model####\n",
    "from keras.models import Sequential\n",
    "from keras.layers import SimpleRNN, Dense\n",
    "rnn_model = Sequential()\n",
    "rnn_model.add(SimpleRNN(32, activation=\"relu\", input_shape=(x_train.shape[1], 1)))\n",
    "rnn_model.add(Dense(64, activation=\"relu\"))\n",
    "rnn_model.add(Dense(1))\n",
    "rnn_model.compile(loss=\"mse\", optimizer=\"adam\")\n",
    "rnn_model.fit(x_train, y_train, batch_size=12, epochs=200, verbose=0)\n",
    "y_predRNN = rnn_model.predict(x_test)"
   ]
  },
  {
   "cell_type": "code",
   "execution_count": 87,
   "id": "375857e1",
   "metadata": {},
   "outputs": [],
   "source": [
    "y_predRNN=pd.DataFrame(y_predRNN)"
   ]
  },
  {
   "cell_type": "code",
   "execution_count": null,
   "id": "4065bd08",
   "metadata": {},
   "outputs": [],
   "source": [
    "# Calculate evaluation metrics on test dataset\n",
    "r2_testRNN = 1 - np.sum((y_test - y_predRNN)**2) / np.sum((y_test - np.mean(y_test))**2)\n",
    "mae_testRNN = np.mean(np.abs(y_test - y_predRNN))\n",
    "nse_testRNN = 1 - np.sum((y_test - y_predRNN)**2) / np.sum((y_test - np.mean(y_test))**2)\n",
    "# Calculate RMSE on test dataset\n",
    "rmse_testRNN = np.sqrt(np.mean((y_test - y_predRNN)**2))\n",
    "# Print results\n",
    "print(f\"RMSE on Test Dataset: {rmse_testRNN}\")\n",
    "print(f\"R-squared on Test Dataset: {r2_testRNN}\")\n",
    "print(f\"MAE on Test Dataset: {mae_testRNN}\")\n",
    "print(f\"NSE on Test Dataset: {rmse_testRNN}\")"
   ]
  }
 ],
 "metadata": {
  "kernelspec": {
   "display_name": "Python 3 (ipykernel)",
   "language": "python",
   "name": "python3"
  },
  "language_info": {
   "codemirror_mode": {
    "name": "ipython",
    "version": 3
   },
   "file_extension": ".py",
   "mimetype": "text/x-python",
   "name": "python",
   "nbconvert_exporter": "python",
   "pygments_lexer": "ipython3",
   "version": "3.10.10"
  }
 },
 "nbformat": 4,
 "nbformat_minor": 5
}
